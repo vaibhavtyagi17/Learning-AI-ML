{
  "cells": [
    {
      "cell_type": "code",
      "source": [
        "import numpy as np"
      ],
      "metadata": {
        "id": "I6kXDph0Y-QR"
      },
      "execution_count": 2,
      "outputs": []
    },
    {
      "cell_type": "markdown",
      "source": [
        "Valid Sudoku"
      ],
      "metadata": {
        "id": "BS7QA4YHBy2b"
      }
    },
    {
      "cell_type": "code",
      "source": [
        "s = np.array([\n",
        "    [5, 3, 4, 6, 7, 8, 9, 1, 2],\n",
        "    [6, 7, 2, 1, 9, 5, 3, 4, 8],\n",
        "    [1, 9, 8, 3, 4, 2, 5, 6, 7],\n",
        "\n",
        "    [8, 5, 9, 7, 6, 1, 4, 2, 3],\n",
        "    [4, 2, 6, 8, 5, 3, 7, 9, 1],\n",
        "    [7, 1, 3, 9, 2, 4, 8, 5, 6],\n",
        "\n",
        "    [9, 6, 1, 5, 3, 7, 2, 8, 4],\n",
        "    [2, 8, 7, 4, 1, 9, 6, 3, 5],\n",
        "    [3, 4, 5, 2, 8, 6, 1, 7, 9]\n",
        "])"
      ],
      "metadata": {
        "id": "1w551OL6BmND"
      },
      "execution_count": 29,
      "outputs": []
    },
    {
      "cell_type": "code",
      "source": [
        "print(np.sum(s,axis=1))\n",
        "print(np.sum(s,axis=0))"
      ],
      "metadata": {
        "colab": {
          "base_uri": "https://localhost:8080/"
        },
        "id": "Z7GiPalyB1IP",
        "outputId": "ebbd43c6-df73-44f7-ef3f-724f36ac00f5"
      },
      "execution_count": 30,
      "outputs": [
        {
          "output_type": "stream",
          "name": "stdout",
          "text": [
            "[45 45 45 45 45 45 45 45 45]\n",
            "[45 45 45 45 45 45 45 45 45]\n"
          ]
        }
      ]
    },
    {
      "cell_type": "code",
      "source": [
        "# Columns: [Age, Math Marks, Science Marks]\n",
        "data = np.array([\n",
        "    [18, 85, 78],   # Student 1\n",
        "    [19, 92, 88],   # Student 2\n",
        "    [17, 76, 95],   # Student 3\n",
        "    [18, 65, 70],   # Student 4\n",
        "    [20, 90, 85]    # Student 5\n",
        "])"
      ],
      "metadata": {
        "id": "WRfdFMOICYzJ"
      },
      "execution_count": 56,
      "outputs": []
    },
    {
      "cell_type": "code",
      "source": [
        "#Get the shape of the matrix.\n",
        "print(data.shape)"
      ],
      "metadata": {
        "colab": {
          "base_uri": "https://localhost:8080/"
        },
        "id": "BpdMP2tGC2HG",
        "outputId": "e42e5789-139d-4b79-b251-79aa7c933b83"
      },
      "execution_count": 32,
      "outputs": [
        {
          "output_type": "stream",
          "name": "stdout",
          "text": [
            "(5, 3)\n"
          ]
        }
      ]
    },
    {
      "cell_type": "code",
      "source": [
        "#Find the average age of students.\n",
        "print(np.mean(data[:,0]))"
      ],
      "metadata": {
        "colab": {
          "base_uri": "https://localhost:8080/"
        },
        "id": "ASf7asLrC55t",
        "outputId": "d08bb126-90f9-4811-8f73-b038aafa18c4"
      },
      "execution_count": 34,
      "outputs": [
        {
          "output_type": "stream",
          "name": "stdout",
          "text": [
            "18.4\n"
          ]
        }
      ]
    },
    {
      "cell_type": "code",
      "source": [
        "#Extract Math marks of all students.\n",
        "print(data[:,1])"
      ],
      "metadata": {
        "colab": {
          "base_uri": "https://localhost:8080/"
        },
        "id": "BxRfXlGfDEn5",
        "outputId": "42baf034-db64-41e8-d11e-5d02ab873790"
      },
      "execution_count": 36,
      "outputs": [
        {
          "output_type": "stream",
          "name": "stdout",
          "text": [
            "[85 92 76 65 90]\n"
          ]
        }
      ]
    },
    {
      "cell_type": "code",
      "source": [
        "#Find the highest Science mark."
      ],
      "metadata": {
        "id": "iEOHhsyfDbAe"
      },
      "execution_count": 37,
      "outputs": []
    },
    {
      "cell_type": "code",
      "source": [
        "print(np.max(data[:,2]))"
      ],
      "metadata": {
        "colab": {
          "base_uri": "https://localhost:8080/"
        },
        "id": "hbB3IG_7Dfxq",
        "outputId": "39e84681-e5ed-4379-df84-7958557a235b"
      },
      "execution_count": 38,
      "outputs": [
        {
          "output_type": "stream",
          "name": "stdout",
          "text": [
            "95\n"
          ]
        }
      ]
    },
    {
      "cell_type": "code",
      "source": [
        "#Get details of the student who scored more than 90 in Math.\n",
        "print(data[data[:,1]>90])"
      ],
      "metadata": {
        "colab": {
          "base_uri": "https://localhost:8080/"
        },
        "id": "Y7ZWr4JnDiZ8",
        "outputId": "38c7cd12-a04a-4cf4-fd1d-565d6885cead"
      },
      "execution_count": 39,
      "outputs": [
        {
          "output_type": "stream",
          "name": "stdout",
          "text": [
            "[[19 92 88]]\n"
          ]
        }
      ]
    },
    {
      "cell_type": "code",
      "source": [
        "#Increase Math marks of all students by 5."
      ],
      "metadata": {
        "id": "d41Oz1YPD2hR"
      },
      "execution_count": 40,
      "outputs": []
    },
    {
      "cell_type": "code",
      "source": [
        "data[:,1]+=5\n",
        "data\n",
        "#Increase Math marks of all students by 5."
      ],
      "metadata": {
        "colab": {
          "base_uri": "https://localhost:8080/"
        },
        "id": "D9Pg12DAD4k-",
        "outputId": "f0f146fb-7a62-4304-b325-8fdb3287d3cb"
      },
      "execution_count": 44,
      "outputs": [
        {
          "output_type": "execute_result",
          "data": {
            "text/plain": [
              "array([[ 18,  95,  78],\n",
              "       [ 19, 102,  88],\n",
              "       [ 17,  86,  95],\n",
              "       [ 18,  75,  70],\n",
              "       [ 20, 100,  85]])"
            ]
          },
          "metadata": {},
          "execution_count": 44
        }
      ]
    },
    {
      "cell_type": "code",
      "source": [
        "#Find how many students are younger than 19."
      ],
      "metadata": {
        "id": "yc0ezj3zD9-j"
      },
      "execution_count": 45,
      "outputs": []
    },
    {
      "cell_type": "code",
      "source": [
        "print(data[data[:,0]>19])"
      ],
      "metadata": {
        "colab": {
          "base_uri": "https://localhost:8080/"
        },
        "id": "DQwfwFuJEXf4",
        "outputId": "5ae9d6ef-1f2f-4643-eb65-ff05a311e609"
      },
      "execution_count": 46,
      "outputs": [
        {
          "output_type": "stream",
          "name": "stdout",
          "text": [
            "[[ 20 100  85]]\n"
          ]
        }
      ]
    },
    {
      "cell_type": "code",
      "source": [
        "#Calculate the average marks in each subject (column-wise mean).\n",
        "print(np.mean(data[:,1],axis=0))"
      ],
      "metadata": {
        "colab": {
          "base_uri": "https://localhost:8080/"
        },
        "id": "yMWONq2oEbbX",
        "outputId": "d4ad940d-1a04-4c7b-d8be-602a4fe26e7f"
      },
      "execution_count": 47,
      "outputs": [
        {
          "output_type": "stream",
          "name": "stdout",
          "text": [
            "91.6\n"
          ]
        }
      ]
    },
    {
      "cell_type": "code",
      "source": [
        "print(np.mean(data[:,2],axis=0))"
      ],
      "metadata": {
        "colab": {
          "base_uri": "https://localhost:8080/"
        },
        "id": "AT4eZ1OBErwq",
        "outputId": "f268d558-9844-44a4-f429-b0c9b47118ec"
      },
      "execution_count": 48,
      "outputs": [
        {
          "output_type": "stream",
          "name": "stdout",
          "text": [
            "83.2\n"
          ]
        }
      ]
    },
    {
      "cell_type": "code",
      "source": [
        "#Get data of students who scored at least 80 in both subjects.\n",
        "print(data[(data[:,2]>=80) & (data[:,1]>=80)])"
      ],
      "metadata": {
        "colab": {
          "base_uri": "https://localhost:8080/"
        },
        "id": "aAlSBUI9EvUV",
        "outputId": "070335eb-7e59-4783-a04d-98228bc0de50"
      },
      "execution_count": 52,
      "outputs": [
        {
          "output_type": "stream",
          "name": "stdout",
          "text": [
            "[[ 19 102  88]\n",
            " [ 17  86  95]\n",
            " [ 20 100  85]]\n"
          ]
        }
      ]
    },
    {
      "cell_type": "code",
      "source": [
        "#Replace all Science marks < 75 with 0.\n",
        "data[:,2][data[:,2]<75]=0\n",
        "data"
      ],
      "metadata": {
        "colab": {
          "base_uri": "https://localhost:8080/"
        },
        "id": "Kw79mXzrE4N0",
        "outputId": "930b4323-722f-4c11-b6f0-8cc6025d81cc"
      },
      "execution_count": 57,
      "outputs": [
        {
          "output_type": "execute_result",
          "data": {
            "text/plain": [
              "array([[18, 85, 78],\n",
              "       [19, 92, 88],\n",
              "       [17, 76, 95],\n",
              "       [18, 65,  0],\n",
              "       [20, 90, 85]])"
            ]
          },
          "metadata": {},
          "execution_count": 57
        }
      ]
    },
    {
      "cell_type": "code",
      "source": [],
      "metadata": {
        "id": "M94FQ3PvFpWj"
      },
      "execution_count": null,
      "outputs": []
    }
  ],
  "metadata": {
    "colab": {
      "provenance": []
    },
    "kernelspec": {
      "display_name": "Python 3",
      "name": "python3"
    },
    "language_info": {
      "name": "python"
    }
  },
  "nbformat": 4,
  "nbformat_minor": 0
}